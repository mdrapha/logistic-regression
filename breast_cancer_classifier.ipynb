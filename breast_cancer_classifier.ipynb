{
 "cells": [
  {
   "attachments": {},
   "cell_type": "markdown",
   "metadata": {},
   "source": [
    "## Implementação prática de um algoritmo de Regressão Logística\n",
    "### Fazendo uso da função de ativação sigmoidal (logistic)\n",
    "\n",
    "$$logistic= \\frac{1}{(1 + e^{-z})}$$\n",
    "\n",
    "Tal que $z$ será:\n",
    "\n",
    "$$ z = (a_1 \\cdot x_1 + a_2 \\cdot x_2 + ... + a_n \\cdot x_n) + b $$"
   ]
  },
  {
   "cell_type": "code",
   "execution_count": 37,
   "metadata": {},
   "outputs": [],
   "source": [
    "#Importação das bibliotecas necessárias\n",
    "import numpy as np\n",
    "import zipfile\n",
    "import pandas as pd"
   ]
  },
  {
   "attachments": {},
   "cell_type": "markdown",
   "metadata": {},
   "source": [
    "### Definição do modelo e seus métodos:\n",
    "* Precisão\n",
    "* Acurácia\n",
    "* Acurácia Balanceada\n",
    "* Teste (Prediction)\n",
    "* Treino (Fit)"
   ]
  },
  {
   "cell_type": "code",
   "execution_count": 38,
   "metadata": {},
   "outputs": [],
   "source": [
    "class BinaryLogisticRegressor:\n",
    "    \n",
    "    def __init__(self, learning_rate=0.01, n_iterations=1000):\n",
    "        self.learning_rate = learning_rate\n",
    "        self.n_iterations = n_iterations\n",
    "        self.weights = None\n",
    "        self.bias = None\n",
    "        \n",
    "    #Definicao da função de ativação       \n",
    "    def _sigmoid(self, x):\n",
    "        x = np.array(x)\n",
    "        x=x.reshape(-1,1)\n",
    "        x = x.astype(float)\n",
    "        #Função sigmoide\n",
    "        return 1 / (1 + np.exp(-x))\n",
    "    \n",
    "    def fit(self, X, y):\n",
    "        n_samples, n_features = X.shape\n",
    "        # Inicialização dos pesos\n",
    "        self.weights = np.zeros(n_features)\n",
    "        self.bias = 0\n",
    "        \n",
    "        # Gradiente descendente\n",
    "        for _ in range(self.n_iterations):\n",
    "            linear_model = np.dot(X, self.weights) + self.bias\n",
    "            y_predicted = self._sigmoid(linear_model)\n",
    "            \n",
    "            # Calculo do gradiente\n",
    "            dw = (1 / n_samples) * np.dot(X.T, (y_predicted - y))\n",
    "            db = (1 / n_samples) * np.sum(y_predicted - y)\n",
    "            \n",
    "            # Atualização dos pesos\n",
    "            self.weights = self.weights.reshape(-1,1)\n",
    "            self.weights = self.weights.astype(float)\n",
    "            dw= dw.reshape(-1,1)\n",
    "            dw = dw.astype(float)\n",
    "\n",
    "            self.weights -= self.learning_rate * dw\n",
    "            self.bias -= self.learning_rate * db\n",
    "    \n",
    "    def predict(self, X):\n",
    "        linear_model = np.dot(X, self.weights) + self.bias\n",
    "        #Aplicacao da função de ativação para retornar a classe predita\n",
    "        y_predicted = self._sigmoid(linear_model)\n",
    "        #Classificação da classe predita de forma binária (0 ou 1)\n",
    "        y_predicted_cls = [1 if i < 0.42 else 0 for i in y_predicted]\n",
    "        return y_predicted_cls\n",
    "    "
   ]
  },
  {
   "cell_type": "code",
   "execution_count": 39,
   "metadata": {},
   "outputs": [],
   "source": [
    "#Definindo um classe para escalonamento dos dados \n",
    "#Para os seguintes metodos: MinMax, Standard e Normal\n",
    "class Scaler:\n",
    "        \n",
    "        def __init__(self, method):\n",
    "            self.method = method\n",
    "        \n",
    "        def fit(self, X):\n",
    "            if self.method == 'minmax':\n",
    "                self.min = np.min(X, axis=0)\n",
    "                self.max = np.max(X, axis=0)\n",
    "            elif self.method == 'std':\n",
    "                self.mean = np.mean(X, axis=0)\n",
    "                self.std = np.std(X, axis=0)\n",
    "            elif self.method == 'normal':\n",
    "                self.mean = np.mean(X, axis=0)\n",
    "                self.std = np.std(X, axis=0)\n",
    "            else:\n",
    "                raise Exception('Método inválido ou não implementado')\n",
    "        \n",
    "        def transform(self, X):\n",
    "            if self.method == 'minmax':\n",
    "                return (X - self.min) / (self.max - self.min)\n",
    "            elif self.method == 'std':\n",
    "                return (X - self.mean) / self.std\n",
    "            elif self.method == 'normal':\n",
    "                return (X - self.mean) / self.std\n",
    "            else:\n",
    "                raise Exception('Método inválido ou não implementado')\n"
   ]
  },
  {
   "cell_type": "code",
   "execution_count": 40,
   "metadata": {},
   "outputs": [],
   "source": [
    "class Metrics:\n",
    "    def __init__(self, y_true, y_pred):\n",
    "        self.y_true = y_true\n",
    "        self.y_pred = y_pred\n",
    "        self.positive= np.sum(y_true == 1)\n",
    "        self.negative= np.sum(y_true == 0)\n",
    "        \n",
    "        false_positive = 0\n",
    "        false_negative = 0\n",
    "        true_positives = 0\n",
    "        true_negatives = 0\n",
    "        \n",
    "        for i in range (len(y_true)):\n",
    "            if y_pred[i] == 1 and y_true[i] == 1:\n",
    "                true_positive += 1\n",
    "            elif y_pred[i] == 1 and y_true[i] == 0:\n",
    "                false_positive += 1\n",
    "            elif y_pred[i] == 0 and y_true[i] == 1:\n",
    "                false_negative += 1\n",
    "            elif y_pred[i] == 0 and y_true[i] == 0:\n",
    "                true_negatives += 1\n",
    "        \n",
    "        self.false_positive = false_positive\n",
    "        self.false_negative = false_negative\n",
    "        self.true_positives = true_positives\n",
    "        self.true_negatives = true_negatives\n",
    "        \n",
    "        \n",
    "        \n",
    "    def accuracy(self):\n",
    "        accuracy = np.sum(self.y_true == self.y_pred) / len(self.y_true)\n",
    "        return accuracy\n",
    "    \n",
    "    def balanced_accuracy(self):\n",
    "        balanced_accuracy = (self.true_positives / self.positive + self.true_negatives / self.negative) / 2\n",
    "        return balanced_accuracy\n",
    "    \n",
    "    def sensitivity(self):\n",
    "        sensitivity = self.true_positives / self.positive\n",
    "        return sensitivity\n",
    "    \n",
    "    def specificity(self):\n",
    "        specificity = self.true_negatives / self.negative\n",
    "        return specificity\n",
    "\n",
    "            "
   ]
  },
  {
   "cell_type": "code",
   "execution_count": 41,
   "metadata": {},
   "outputs": [],
   "source": [
    "#Implementaçao de classe para separar os dados em treino e teste dado um modelo de separação\n",
    "#Kfold, TrainTestSplit \n",
    "\n",
    "class Split:\n",
    "    def __init__(self, method):\n",
    "        self.method = method\n",
    "    \n",
    "    def kfold(self, X, y, k):\n",
    "        n_samples = X.shape[0]\n",
    "        n_samples_per_fold = n_samples // k\n",
    "        X_folds = []\n",
    "        y_folds = []\n",
    "        for i in range(k):\n",
    "            X_folds.append(X[i * n_samples_per_fold : (i + 1) * n_samples_per_fold])\n",
    "            y_folds.append(y[i * n_samples_per_fold : (i + 1) * n_samples_per_fold])\n",
    "        return X_folds, y_folds\n",
    "\n",
    "    def train_test_split(self, X, y, test_size):\n",
    "        n_samples = X.shape[0]\n",
    "        n_samples_test = int(n_samples * test_size)\n",
    "        n_samples_train = n_samples - n_samples_test\n",
    "        X_train = X[:n_samples_train]\n",
    "        y_train = y[:n_samples_train]\n",
    "        X_test = X[n_samples_train:]\n",
    "        y_test = y[n_samples_train:]\n",
    "        return X_train, X_test, y_train, y_test"
   ]
  },
  {
   "cell_type": "code",
   "execution_count": 42,
   "metadata": {},
   "outputs": [],
   "source": [
    "#Importando o dataset\n",
    "zf = zipfile.ZipFile('archive.zip')\n",
    "data = pd.read_csv(zf.open('data.csv'))"
   ]
  },
  {
   "cell_type": "code",
   "execution_count": 43,
   "metadata": {},
   "outputs": [
    {
     "data": {
      "text/html": [
       "<div>\n",
       "<style scoped>\n",
       "    .dataframe tbody tr th:only-of-type {\n",
       "        vertical-align: middle;\n",
       "    }\n",
       "\n",
       "    .dataframe tbody tr th {\n",
       "        vertical-align: top;\n",
       "    }\n",
       "\n",
       "    .dataframe thead th {\n",
       "        text-align: right;\n",
       "    }\n",
       "</style>\n",
       "<table border=\"1\" class=\"dataframe\">\n",
       "  <thead>\n",
       "    <tr style=\"text-align: right;\">\n",
       "      <th></th>\n",
       "      <th>id</th>\n",
       "      <th>diagnosis</th>\n",
       "      <th>radius_mean</th>\n",
       "      <th>texture_mean</th>\n",
       "      <th>perimeter_mean</th>\n",
       "      <th>area_mean</th>\n",
       "      <th>smoothness_mean</th>\n",
       "      <th>compactness_mean</th>\n",
       "      <th>concavity_mean</th>\n",
       "      <th>concave points_mean</th>\n",
       "      <th>...</th>\n",
       "      <th>texture_worst</th>\n",
       "      <th>perimeter_worst</th>\n",
       "      <th>area_worst</th>\n",
       "      <th>smoothness_worst</th>\n",
       "      <th>compactness_worst</th>\n",
       "      <th>concavity_worst</th>\n",
       "      <th>concave points_worst</th>\n",
       "      <th>symmetry_worst</th>\n",
       "      <th>fractal_dimension_worst</th>\n",
       "      <th>Unnamed: 32</th>\n",
       "    </tr>\n",
       "  </thead>\n",
       "  <tbody>\n",
       "    <tr>\n",
       "      <th>0</th>\n",
       "      <td>842302</td>\n",
       "      <td>M</td>\n",
       "      <td>17.99</td>\n",
       "      <td>10.38</td>\n",
       "      <td>122.80</td>\n",
       "      <td>1001.0</td>\n",
       "      <td>0.11840</td>\n",
       "      <td>0.27760</td>\n",
       "      <td>0.3001</td>\n",
       "      <td>0.14710</td>\n",
       "      <td>...</td>\n",
       "      <td>17.33</td>\n",
       "      <td>184.60</td>\n",
       "      <td>2019.0</td>\n",
       "      <td>0.1622</td>\n",
       "      <td>0.6656</td>\n",
       "      <td>0.7119</td>\n",
       "      <td>0.2654</td>\n",
       "      <td>0.4601</td>\n",
       "      <td>0.11890</td>\n",
       "      <td>NaN</td>\n",
       "    </tr>\n",
       "    <tr>\n",
       "      <th>1</th>\n",
       "      <td>842517</td>\n",
       "      <td>M</td>\n",
       "      <td>20.57</td>\n",
       "      <td>17.77</td>\n",
       "      <td>132.90</td>\n",
       "      <td>1326.0</td>\n",
       "      <td>0.08474</td>\n",
       "      <td>0.07864</td>\n",
       "      <td>0.0869</td>\n",
       "      <td>0.07017</td>\n",
       "      <td>...</td>\n",
       "      <td>23.41</td>\n",
       "      <td>158.80</td>\n",
       "      <td>1956.0</td>\n",
       "      <td>0.1238</td>\n",
       "      <td>0.1866</td>\n",
       "      <td>0.2416</td>\n",
       "      <td>0.1860</td>\n",
       "      <td>0.2750</td>\n",
       "      <td>0.08902</td>\n",
       "      <td>NaN</td>\n",
       "    </tr>\n",
       "    <tr>\n",
       "      <th>2</th>\n",
       "      <td>84300903</td>\n",
       "      <td>M</td>\n",
       "      <td>19.69</td>\n",
       "      <td>21.25</td>\n",
       "      <td>130.00</td>\n",
       "      <td>1203.0</td>\n",
       "      <td>0.10960</td>\n",
       "      <td>0.15990</td>\n",
       "      <td>0.1974</td>\n",
       "      <td>0.12790</td>\n",
       "      <td>...</td>\n",
       "      <td>25.53</td>\n",
       "      <td>152.50</td>\n",
       "      <td>1709.0</td>\n",
       "      <td>0.1444</td>\n",
       "      <td>0.4245</td>\n",
       "      <td>0.4504</td>\n",
       "      <td>0.2430</td>\n",
       "      <td>0.3613</td>\n",
       "      <td>0.08758</td>\n",
       "      <td>NaN</td>\n",
       "    </tr>\n",
       "    <tr>\n",
       "      <th>3</th>\n",
       "      <td>84348301</td>\n",
       "      <td>M</td>\n",
       "      <td>11.42</td>\n",
       "      <td>20.38</td>\n",
       "      <td>77.58</td>\n",
       "      <td>386.1</td>\n",
       "      <td>0.14250</td>\n",
       "      <td>0.28390</td>\n",
       "      <td>0.2414</td>\n",
       "      <td>0.10520</td>\n",
       "      <td>...</td>\n",
       "      <td>26.50</td>\n",
       "      <td>98.87</td>\n",
       "      <td>567.7</td>\n",
       "      <td>0.2098</td>\n",
       "      <td>0.8663</td>\n",
       "      <td>0.6869</td>\n",
       "      <td>0.2575</td>\n",
       "      <td>0.6638</td>\n",
       "      <td>0.17300</td>\n",
       "      <td>NaN</td>\n",
       "    </tr>\n",
       "    <tr>\n",
       "      <th>4</th>\n",
       "      <td>84358402</td>\n",
       "      <td>M</td>\n",
       "      <td>20.29</td>\n",
       "      <td>14.34</td>\n",
       "      <td>135.10</td>\n",
       "      <td>1297.0</td>\n",
       "      <td>0.10030</td>\n",
       "      <td>0.13280</td>\n",
       "      <td>0.1980</td>\n",
       "      <td>0.10430</td>\n",
       "      <td>...</td>\n",
       "      <td>16.67</td>\n",
       "      <td>152.20</td>\n",
       "      <td>1575.0</td>\n",
       "      <td>0.1374</td>\n",
       "      <td>0.2050</td>\n",
       "      <td>0.4000</td>\n",
       "      <td>0.1625</td>\n",
       "      <td>0.2364</td>\n",
       "      <td>0.07678</td>\n",
       "      <td>NaN</td>\n",
       "    </tr>\n",
       "  </tbody>\n",
       "</table>\n",
       "<p>5 rows × 33 columns</p>\n",
       "</div>"
      ],
      "text/plain": [
       "         id diagnosis  radius_mean  texture_mean  perimeter_mean  area_mean  \\\n",
       "0    842302         M        17.99         10.38          122.80     1001.0   \n",
       "1    842517         M        20.57         17.77          132.90     1326.0   \n",
       "2  84300903         M        19.69         21.25          130.00     1203.0   \n",
       "3  84348301         M        11.42         20.38           77.58      386.1   \n",
       "4  84358402         M        20.29         14.34          135.10     1297.0   \n",
       "\n",
       "   smoothness_mean  compactness_mean  concavity_mean  concave points_mean  \\\n",
       "0          0.11840           0.27760          0.3001              0.14710   \n",
       "1          0.08474           0.07864          0.0869              0.07017   \n",
       "2          0.10960           0.15990          0.1974              0.12790   \n",
       "3          0.14250           0.28390          0.2414              0.10520   \n",
       "4          0.10030           0.13280          0.1980              0.10430   \n",
       "\n",
       "   ...  texture_worst  perimeter_worst  area_worst  smoothness_worst  \\\n",
       "0  ...          17.33           184.60      2019.0            0.1622   \n",
       "1  ...          23.41           158.80      1956.0            0.1238   \n",
       "2  ...          25.53           152.50      1709.0            0.1444   \n",
       "3  ...          26.50            98.87       567.7            0.2098   \n",
       "4  ...          16.67           152.20      1575.0            0.1374   \n",
       "\n",
       "   compactness_worst  concavity_worst  concave points_worst  symmetry_worst  \\\n",
       "0             0.6656           0.7119                0.2654          0.4601   \n",
       "1             0.1866           0.2416                0.1860          0.2750   \n",
       "2             0.4245           0.4504                0.2430          0.3613   \n",
       "3             0.8663           0.6869                0.2575          0.6638   \n",
       "4             0.2050           0.4000                0.1625          0.2364   \n",
       "\n",
       "   fractal_dimension_worst  Unnamed: 32  \n",
       "0                  0.11890          NaN  \n",
       "1                  0.08902          NaN  \n",
       "2                  0.08758          NaN  \n",
       "3                  0.17300          NaN  \n",
       "4                  0.07678          NaN  \n",
       "\n",
       "[5 rows x 33 columns]"
      ]
     },
     "execution_count": 43,
     "metadata": {},
     "output_type": "execute_result"
    }
   ],
   "source": [
    "#Visualizando as features presentes no modelo\n",
    "data.head()"
   ]
  },
  {
   "cell_type": "code",
   "execution_count": 44,
   "metadata": {},
   "outputs": [
    {
     "data": {
      "text/plain": [
       "Index(['id', 'diagnosis', 'radius_mean', 'texture_mean', 'perimeter_mean',\n",
       "       'area_mean', 'smoothness_mean', 'compactness_mean', 'concavity_mean',\n",
       "       'concave points_mean', 'symmetry_mean', 'fractal_dimension_mean',\n",
       "       'radius_se', 'texture_se', 'perimeter_se', 'area_se', 'smoothness_se',\n",
       "       'compactness_se', 'concavity_se', 'concave points_se', 'symmetry_se',\n",
       "       'fractal_dimension_se', 'radius_worst', 'texture_worst',\n",
       "       'perimeter_worst', 'area_worst', 'smoothness_worst',\n",
       "       'compactness_worst', 'concavity_worst', 'concave points_worst',\n",
       "       'symmetry_worst', 'fractal_dimension_worst', 'Unnamed: 32'],\n",
       "      dtype='object')"
      ]
     },
     "execution_count": 44,
     "metadata": {},
     "output_type": "execute_result"
    }
   ],
   "source": [
    "#Visualizando as features presentes no modelo\n",
    "data.columns"
   ]
  },
  {
   "cell_type": "code",
   "execution_count": 45,
   "metadata": {},
   "outputs": [
    {
     "data": {
      "text/plain": [
       "(569, 33)"
      ]
     },
     "execution_count": 45,
     "metadata": {},
     "output_type": "execute_result"
    }
   ],
   "source": [
    "data.shape"
   ]
  },
  {
   "cell_type": "code",
   "execution_count": 46,
   "metadata": {},
   "outputs": [],
   "source": [
    "#Selecionando as features que serão utilizadas no modelo\n",
    "X = data.values[:, 2]\n",
    "y = data.values[:, 1]"
   ]
  },
  {
   "cell_type": "code",
   "execution_count": 47,
   "metadata": {},
   "outputs": [
    {
     "data": {
      "text/plain": [
       "array(['B', 'M'], dtype=object)"
      ]
     },
     "execution_count": 47,
     "metadata": {},
     "output_type": "execute_result"
    }
   ],
   "source": [
    "#Visualizando as classes presentes no dataset\n",
    "np.unique(y)"
   ]
  },
  {
   "cell_type": "code",
   "execution_count": 48,
   "metadata": {},
   "outputs": [],
   "source": [
    "#Convertendo as classes para valores binários\n",
    "y = np.where(y == 'M', 1, 0)"
   ]
  },
  {
   "cell_type": "code",
   "execution_count": 49,
   "metadata": {},
   "outputs": [
    {
     "data": {
      "text/plain": [
       "array([0, 1])"
      ]
     },
     "execution_count": 49,
     "metadata": {},
     "output_type": "execute_result"
    }
   ],
   "source": [
    "#Verificando a conversão\n",
    "np.unique(y)"
   ]
  },
  {
   "cell_type": "code",
   "execution_count": 50,
   "metadata": {},
   "outputs": [],
   "source": [
    "#Convertendo os dados para vetores do tipo np.array\n",
    "X = np.array(X)\n",
    "X=X.reshape(-1,1)\n",
    "y = np.array(y)\n",
    "y=y.reshape(-1,1)"
   ]
  },
  {
   "cell_type": "code",
   "execution_count": 51,
   "metadata": {},
   "outputs": [],
   "source": [
    "#Instanciando o classificador e o escalonador\n",
    "clf = BinaryLogisticRegressor()\n",
    "sc= Scaler('minmax')"
   ]
  },
  {
   "cell_type": "code",
   "execution_count": 52,
   "metadata": {},
   "outputs": [
    {
     "name": "stdout",
     "output_type": "stream",
     "text": [
      "[0.0] [1.0]\n"
     ]
    }
   ],
   "source": [
    "#Escalonando os dados\n",
    "sc.fit(X)\n",
    "X = sc.transform(X)\n",
    "\n",
    "print(min(X), max(X))"
   ]
  },
  {
   "cell_type": "code",
   "execution_count": 53,
   "metadata": {},
   "outputs": [],
   "source": [
    "#Instanciando o objeto para separação dos dados\n",
    "#Utilizando o TrainTestSplit\n",
    "\n",
    "split = Split('train_test_split')\n",
    "\n",
    "#Separando os dados em treino e teste com 20% dos dados para teste\n",
    "X_train, X_test, y_train, y_test = split.train_test_split(X, y, 0.2)\n",
    "\n"
   ]
  },
  {
   "cell_type": "code",
   "execution_count": 54,
   "metadata": {},
   "outputs": [],
   "source": [
    "#Treinando o modelo\n",
    "clf.fit(X_train, y_train)"
   ]
  },
  {
   "cell_type": "code",
   "execution_count": 55,
   "metadata": {},
   "outputs": [],
   "source": [
    "#Realizando a predição\n",
    "y_pred = clf.predict(X_test)\n",
    "y_pred = np.array(y_pred)\n",
    "\n"
   ]
  },
  {
   "cell_type": "code",
   "execution_count": 56,
   "metadata": {},
   "outputs": [
    {
     "name": "stdout",
     "output_type": "stream",
     "text": [
      "Acurácia:  64.86725663716814\n",
      "Acurácia Balanceada:  0.26436781609195403\n",
      "Sensibilidade:  0.0\n",
      "Especificidade:  0.5287356321839081\n",
      "Falso Positivo:  41\n",
      "Falso Negativo:  26\n",
      "Verdadeiro Positivo:  0\n",
      "Verdadeiro Negativo:  46\n",
      "Positivo:  26\n",
      "Negativo:  87\n"
     ]
    }
   ],
   "source": [
    "m=Metrics(y_test, y_pred)\n",
    "\n",
    "print('Acurácia: ', m.accuracy())\n",
    "print('Acurácia Balanceada: ', m.balanced_accuracy())\n",
    "print('Sensibilidade: ', m.sensitivity())\n",
    "print('Especificidade: ', m.specificity())\n",
    "\n",
    "print('Falso Positivo: ', m.false_positive)\n",
    "print('Falso Negativo: ', m.false_negative)\n",
    "print('Verdadeiro Positivo: ', m.true_positives)\n",
    "print('Verdadeiro Negativo: ', m.true_negatives)\n",
    "print('Positivo: ', m.positive)\n",
    "print('Negativo: ', m.negative)\n",
    "\n"
   ]
  }
 ],
 "metadata": {
  "kernelspec": {
   "display_name": "Python 3",
   "language": "python",
   "name": "python3"
  },
  "language_info": {
   "codemirror_mode": {
    "name": "ipython",
    "version": 3
   },
   "file_extension": ".py",
   "mimetype": "text/x-python",
   "name": "python",
   "nbconvert_exporter": "python",
   "pygments_lexer": "ipython3",
   "version": "3.10.11"
  },
  "orig_nbformat": 4
 },
 "nbformat": 4,
 "nbformat_minor": 2
}
